{
 "cells": [
  {
   "cell_type": "code",
   "execution_count": 88,
   "metadata": {},
   "outputs": [],
   "source": [
    "import pandas as pd\n",
    "import matplotlib.pyplot as plt\n",
    "import seaborn as sns\n",
    "%matplotlib inline\n",
    "import numpy as np\n"
   ]
  },
  {
   "cell_type": "code",
   "execution_count": 183,
   "metadata": {},
   "outputs": [],
   "source": [
    "data = pd.read_csv(\"train.csv\")\n",
    "test = pd.read_csv(\"test.csv\")"
   ]
  },
  {
   "cell_type": "markdown",
   "metadata": {},
   "source": [
    "# Correlation Matrix"
   ]
  },
  {
   "cell_type": "code",
   "execution_count": 184,
   "metadata": {},
   "outputs": [],
   "source": [
    "pass_id = test[\"PassengerId\"]\n",
    "data.drop(columns=\"PassengerId\")\n",
    "\n",
    "#get correlations of each features in dataset\n",
    "corrmat = data.corr()\n",
    "top_corr_features = corrmat.index\n",
    "\n",
    "#print(corrmat)\n",
    "#plt.figure(figsize=(20,20))\n",
    "\n",
    "#plot heat map\n",
    "#g=sns.heatmap(data[top_corr_features].corr(),annot=True,cmap=\"RdYlGn\")"
   ]
  },
  {
   "cell_type": "markdown",
   "metadata": {},
   "source": [
    "# Clean data"
   ]
  },
  {
   "cell_type": "code",
   "execution_count": 192,
   "metadata": {},
   "outputs": [
    {
     "name": "stdout",
     "output_type": "stream",
     "text": [
      "30.272590361445815\n"
     ]
    }
   ],
   "source": [
    "avg = np.mean(data[\"Age\"])\n",
    "data[\"Age\"] = data[\"Age\"].fillna(value = avg)\n",
    "\n",
    "avg = np.mean(test[\"Age\"])\n",
    "test[\"Age\"] = test[\"Age\"].fillna(value = avg)\n",
    "\n",
    "print(avg)\n",
    "avg = np.mean(test[\"Pclass\"])\n",
    "test[\"Pclass\"] = test[\"Pclass\"].fillna(value = avg)\n",
    "\n"
   ]
  },
  {
   "cell_type": "code",
   "execution_count": 186,
   "metadata": {},
   "outputs": [],
   "source": [
    "Y= np.array(data[\"Survived\"])\n",
    "X = pd.DataFrame([data[\"Sex\"], data[\"Age\"], data[\"Pclass\"]]).T\n",
    "\n",
    "Ytest= np.array(data[\"Survived\"])\n",
    "Xtest = pd.DataFrame([test[\"Sex\"], test[\"Age\"], test[\"Pclass\"]]).T\n",
    "\n",
    "#label encoding\n",
    "X['Sex']= X['Sex'].astype('category')\n",
    "X['Sex'] = X['Sex'].cat.codes\n",
    "\n",
    "#label encoding\n",
    "Xtest['Sex']= Xtest['Sex'].astype('category')\n",
    "Xtest['Sex'] = Xtest['Sex'].cat.codes\n",
    "\n",
    "#X= pd.get_dummies(pd.DataFrame([data[\"Sex\"], data[\"Age\"], data[\"Fare\"]]).T)\n",
    "#X = pd.get_dummies(data, columns=['Sex'], prefix = ['Sex'])"
   ]
  },
  {
   "cell_type": "markdown",
   "metadata": {},
   "source": [
    "# Linear Discriminant Analysis (LDA)"
   ]
  },
  {
   "cell_type": "code",
   "execution_count": 187,
   "metadata": {},
   "outputs": [],
   "source": [
    "from sklearn.model_selection import train_test_split\n",
    "from sklearn.metrics import accuracy_score,confusion_matrix\n",
    "from sklearn.discriminant_analysis import LinearDiscriminantAnalysis\n",
    "import warnings\n",
    "warnings.filterwarnings(\"error\")"
   ]
  },
  {
   "cell_type": "code",
   "execution_count": 197,
   "metadata": {},
   "outputs": [
    {
     "name": "stdout",
     "output_type": "stream",
     "text": [
      "LDA mean error=0.20933 std=0.02376\n",
      "0 train/test splits had to be skipped because of Normalization Errors\n"
     ]
    }
   ],
   "source": [
    "errs=[]\n",
    "nsplits=100\n",
    "skipped=0\n",
    "\n",
    "for j in range(nsplits):\n",
    "  try:\n",
    "    XTRAIN, XTEST, YTRAIN, YTEST=train_test_split(X,Y)\n",
    "    LDA = LinearDiscriminantAnalysis(solver = \"lsqr\", shrinkage = 'auto')\n",
    "    LDA.fit(XTRAIN,YTRAIN)\n",
    "    YP=LDA.predict(XTEST)\n",
    "    errs.append(1-accuracy_score(YTEST,YP))\n",
    "  except UserWarning:\n",
    "    skipped+=1\n",
    "    continue\n",
    "print(\"LDA mean error=%7.5f std=%7.5f\" %(np.mean(errs),np.std(errs)))\n",
    "print(skipped,\"train/test splits had to be skipped because of Normalization Errors\")"
   ]
  },
  {
   "cell_type": "markdown",
   "metadata": {},
   "source": [
    "# Prediction with test.csv"
   ]
  },
  {
   "cell_type": "code",
   "execution_count": 177,
   "metadata": {},
   "outputs": [],
   "source": [
    "YP = LDA.predict(Xtest)\n",
    "\n",
    "#print(np.array(pass_id),YP);"
   ]
  },
  {
   "cell_type": "markdown",
   "metadata": {},
   "source": [
    "# Save to result.csv"
   ]
  },
  {
   "cell_type": "code",
   "execution_count": 179,
   "metadata": {},
   "outputs": [],
   "source": [
    "df = pd.DataFrame({\"PassengerId\":np.array(pass_id),\n",
    "                  \"Survived\": YP})\n",
    "df.to_csv(\"result.csv\", sep =\",\",index = False)"
   ]
  },
  {
   "cell_type": "code",
   "execution_count": null,
   "metadata": {},
   "outputs": [],
   "source": []
  }
 ],
 "metadata": {
  "kernelspec": {
   "display_name": "Python 3",
   "language": "python",
   "name": "python3"
  },
  "language_info": {
   "codemirror_mode": {
    "name": "ipython",
    "version": 3
   },
   "file_extension": ".py",
   "mimetype": "text/x-python",
   "name": "python",
   "nbconvert_exporter": "python",
   "pygments_lexer": "ipython3",
   "version": "3.7.1"
  }
 },
 "nbformat": 4,
 "nbformat_minor": 2
}
